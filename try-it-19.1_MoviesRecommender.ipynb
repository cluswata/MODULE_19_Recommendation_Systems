{
 "cells": [
  {
   "cell_type": "markdown",
   "metadata": {},
   "source": [
    "### Building a Recommender system with Surprise\n",
    "\n",
    "This try-it focuses on exploring additional algorithms with the `Suprise` library to generate recommendations.  Your goal is to identify the optimal algorithm by minimizing the mean squared error using cross validation. You are also going to select a dataset to use from [grouplens](https://grouplens.org/datasets/movielens/) example datasets.  \n",
    "\n",
    "To begin, head over to grouplens and examine the different datasets available.  Choose one so that it is easy to create the data as expected in `Surprise` with user, item, and rating information.  Then, compare the performance of at least the `KNNBasic`, `SVD`, `NMF`, `SlopeOne`, and `CoClustering` algorithms to build your recommendations.  For more information on the algorithms see the documentation for the algorithm package [here](https://surprise.readthedocs.io/en/stable/prediction_algorithms_package.html).\n",
    "\n",
    "Share the results of your investigation and include the results of your cross validation and a basic description of your dataset with your peers.\n",
    "\n"
   ]
  },
  {
   "cell_type": "code",
   "execution_count": null,
   "metadata": {},
   "outputs": [],
   "source": []
  },
  {
   "cell_type": "code",
   "execution_count": null,
   "metadata": {},
   "outputs": [],
   "source": []
  },
  {
   "cell_type": "code",
   "execution_count": 24,
   "metadata": {},
   "outputs": [],
   "source": [
    "import numpy as np\n",
    "import pandas as pd\n",
    "import seaborn as sns\n",
    "import matplotlib.pyplot as plt\n",
    "import researchpy as rp \n",
    "from scipy import stats\n",
    "import re\n",
    "\n",
    "from surprise import Dataset, Reader, SVD, NMF, KNNBasic, SlopeOne, CoClustering\n",
    "from surprise.model_selection import cross_validate\n"
   ]
  },
  {
   "cell_type": "code",
   "execution_count": 25,
   "metadata": {},
   "outputs": [],
   "source": [
    "movie_ratings = pd.read_csv(\"C:/Users/Luswata/Dropbox/ML_AI_UCBerkeley/MODULE_19_Recommendation_Systems/movies/ratings.csv\")\n",
    "movie_title = pd.read_csv(\"C:/Users/Luswata/Dropbox/ML_AI_UCBerkeley/MODULE_19_Recommendation_Systems/movies/movies.csv\")\n",
    "movie_tags = pd.read_csv(\"C:/Users/Luswata/Dropbox/ML_AI_UCBerkeley/MODULE_19_Recommendation_Systems/movies/tags.csv\")"
   ]
  },
  {
   "cell_type": "code",
   "execution_count": 26,
   "metadata": {},
   "outputs": [
    {
     "name": "stdout",
     "output_type": "stream",
     "text": [
      "   userId  movieId  rating  timestamp\n",
      "0       1        1     4.0  964982703\n",
      "1       1        3     4.0  964981247\n",
      "2       1        6     4.0  964982224\n",
      "3       1       47     5.0  964983815\n",
      "4       1       50     5.0  964982931\n"
     ]
    },
    {
     "data": {
      "text/plain": [
       "(100836, 4)"
      ]
     },
     "execution_count": 26,
     "metadata": {},
     "output_type": "execute_result"
    }
   ],
   "source": [
    "print(movie_ratings.head(5))\n",
    "movie_ratings.shape"
   ]
  },
  {
   "cell_type": "code",
   "execution_count": 27,
   "metadata": {},
   "outputs": [
    {
     "name": "stdout",
     "output_type": "stream",
     "text": [
      "   movieId                               title  \\\n",
      "0        1                    Toy Story (1995)   \n",
      "1        2                      Jumanji (1995)   \n",
      "2        3             Grumpier Old Men (1995)   \n",
      "3        4            Waiting to Exhale (1995)   \n",
      "4        5  Father of the Bride Part II (1995)   \n",
      "\n",
      "                                        genres  \n",
      "0  Adventure|Animation|Children|Comedy|Fantasy  \n",
      "1                   Adventure|Children|Fantasy  \n",
      "2                               Comedy|Romance  \n",
      "3                         Comedy|Drama|Romance  \n",
      "4                                       Comedy  \n"
     ]
    },
    {
     "data": {
      "text/plain": [
       "(9742, 3)"
      ]
     },
     "execution_count": 27,
     "metadata": {},
     "output_type": "execute_result"
    }
   ],
   "source": [
    "print(movie_title.head(5))\n",
    "movie_title.shape"
   ]
  },
  {
   "cell_type": "code",
   "execution_count": 28,
   "metadata": {},
   "outputs": [
    {
     "name": "stdout",
     "output_type": "stream",
     "text": [
      "   userId  movieId              tag   timestamp\n",
      "0       2    60756            funny  1445714994\n",
      "1       2    60756  Highly quotable  1445714996\n",
      "2       2    60756     will ferrell  1445714992\n",
      "3       2    89774     Boxing story  1445715207\n",
      "4       2    89774              MMA  1445715200\n"
     ]
    },
    {
     "data": {
      "text/plain": [
       "(3683, 4)"
      ]
     },
     "execution_count": 28,
     "metadata": {},
     "output_type": "execute_result"
    }
   ],
   "source": [
    "print(movie_tags.head(5))\n",
    "movie_tags.shape"
   ]
  },
  {
   "cell_type": "code",
   "execution_count": 29,
   "metadata": {},
   "outputs": [
    {
     "name": "stdout",
     "output_type": "stream",
     "text": [
      "(102677, 6)\n",
      "(102677, 9)\n",
      "        userId  movieId  rating  timestamp_x              tag   timestamp_y  \\\n",
      "59785       28     1047     3.5   1234334914              NaN           NaN   \n",
      "101142     594     7883     0.5   1108950737              NaN           NaN   \n",
      "67430      474     5630     3.5   1053021641  Hannibal Lecter  1.139060e+09   \n",
      "46165      314      172     1.0    834398472              NaN           NaN   \n",
      "98055      298   116138     2.0   1474818441              NaN           NaN   \n",
      "64004      224     2915     5.0    971812118              NaN           NaN   \n",
      "69181      318    81834     4.0   1292075170              NaN           NaN   \n",
      "23414      579     2599     5.0    958879901              NaN           NaN   \n",
      "70440      567     5673     3.5   1525282187      bittersweet  1.525283e+09   \n",
      "74470      288    39444     4.0   1157408700              NaN           NaN   \n",
      "\n",
      "                                                    title  \\\n",
      "59785                     Long Kiss Goodnight, The (1996)   \n",
      "101142                      I Walked with a Zombie (1943)   \n",
      "67430                                   Red Dragon (2002)   \n",
      "46165                              Johnny Mnemonic (1995)   \n",
      "98055                                    Leviathan (2014)   \n",
      "64004                               Risky Business (1983)   \n",
      "69181   Harry Potter and the Deathly Hallows: Part 1 (...   \n",
      "23414                                     Election (1999)   \n",
      "70440                             Punch-Drunk Love (2002)   \n",
      "74470                             Weather Man, The (2005)   \n",
      "\n",
      "                               genres    year  \n",
      "59785           Action|Drama|Thriller  1996.0  \n",
      "101142                   Drama|Horror  1943.0  \n",
      "67430          Crime|Mystery|Thriller  2002.0  \n",
      "46165          Action|Sci-Fi|Thriller  1995.0  \n",
      "98055                           Drama  2014.0  \n",
      "64004                          Comedy  1983.0  \n",
      "69181   Action|Adventure|Fantasy|IMAX  2010.0  \n",
      "23414                          Comedy  1999.0  \n",
      "70440            Comedy|Drama|Romance  2002.0  \n",
      "74470                    Comedy|Drama  2005.0  \n"
     ]
    }
   ],
   "source": [
    "# Merge movie_ratings with movie_tags on userId and movieId\n",
    "merged_ratings_tags = pd.merge(movie_ratings, movie_tags, on=['userId', 'movieId'], how='left')\n",
    "print(merged_ratings_tags.shape)\n",
    "\n",
    "# Merge the result with movie_title on movieId\n",
    "final_merged = pd.merge(merged_ratings_tags, movie_title, on='movieId', how='inner')\n",
    "\n",
    "# Function to extract year from title\n",
    "def extract_year(title):\n",
    "    match = re.search(r'\\((\\d{4})\\)', title)\n",
    "    return int(match.group(1)) if match else None\n",
    "\n",
    "# Apply the function to create a new column 'year'\n",
    "final_merged['year'] = final_merged['title'].apply(extract_year)\n",
    "\n",
    "print(final_merged.shape)\n",
    "\n",
    "# Display the final merged DataFrame\n",
    "print(final_merged.sample(n=10, random_state=1))"
   ]
  },
  {
   "cell_type": "code",
   "execution_count": 30,
   "metadata": {},
   "outputs": [
    {
     "data": {
      "text/html": [
       "<div>\n",
       "<style scoped>\n",
       "    .dataframe tbody tr th:only-of-type {\n",
       "        vertical-align: middle;\n",
       "    }\n",
       "\n",
       "    .dataframe tbody tr th {\n",
       "        vertical-align: top;\n",
       "    }\n",
       "\n",
       "    .dataframe thead th {\n",
       "        text-align: right;\n",
       "    }\n",
       "</style>\n",
       "<table border=\"1\" class=\"dataframe\">\n",
       "  <thead>\n",
       "    <tr style=\"text-align: right;\">\n",
       "      <th></th>\n",
       "      <th>Variable</th>\n",
       "      <th>Outcome</th>\n",
       "      <th>Count</th>\n",
       "      <th>Percent</th>\n",
       "    </tr>\n",
       "  </thead>\n",
       "  <tbody>\n",
       "    <tr>\n",
       "      <th>0</th>\n",
       "      <td>year</td>\n",
       "      <td>1995.0</td>\n",
       "      <td>6193</td>\n",
       "      <td>6.03</td>\n",
       "    </tr>\n",
       "    <tr>\n",
       "      <th>1</th>\n",
       "      <td></td>\n",
       "      <td>1994.0</td>\n",
       "      <td>5531</td>\n",
       "      <td>5.39</td>\n",
       "    </tr>\n",
       "    <tr>\n",
       "      <th>2</th>\n",
       "      <td></td>\n",
       "      <td>1999.0</td>\n",
       "      <td>4632</td>\n",
       "      <td>4.51</td>\n",
       "    </tr>\n",
       "    <tr>\n",
       "      <th>3</th>\n",
       "      <td></td>\n",
       "      <td>1996.0</td>\n",
       "      <td>4530</td>\n",
       "      <td>4.41</td>\n",
       "    </tr>\n",
       "    <tr>\n",
       "      <th>4</th>\n",
       "      <td></td>\n",
       "      <td>2000.0</td>\n",
       "      <td>4335</td>\n",
       "      <td>4.22</td>\n",
       "    </tr>\n",
       "    <tr>\n",
       "      <th>...</th>\n",
       "      <td>...</td>\n",
       "      <td>...</td>\n",
       "      <td>...</td>\n",
       "      <td>...</td>\n",
       "    </tr>\n",
       "    <tr>\n",
       "      <th>101</th>\n",
       "      <td></td>\n",
       "      <td>1903.0</td>\n",
       "      <td>2</td>\n",
       "      <td>0.00</td>\n",
       "    </tr>\n",
       "    <tr>\n",
       "      <th>102</th>\n",
       "      <td></td>\n",
       "      <td>1908.0</td>\n",
       "      <td>1</td>\n",
       "      <td>0.00</td>\n",
       "    </tr>\n",
       "    <tr>\n",
       "      <th>103</th>\n",
       "      <td></td>\n",
       "      <td>1917.0</td>\n",
       "      <td>1</td>\n",
       "      <td>0.00</td>\n",
       "    </tr>\n",
       "    <tr>\n",
       "      <th>104</th>\n",
       "      <td></td>\n",
       "      <td>1915.0</td>\n",
       "      <td>1</td>\n",
       "      <td>0.00</td>\n",
       "    </tr>\n",
       "    <tr>\n",
       "      <th>105</th>\n",
       "      <td></td>\n",
       "      <td>1919.0</td>\n",
       "      <td>1</td>\n",
       "      <td>0.00</td>\n",
       "    </tr>\n",
       "  </tbody>\n",
       "</table>\n",
       "<p>106 rows × 4 columns</p>\n",
       "</div>"
      ],
      "text/plain": [
       "    Variable  Outcome  Count  Percent\n",
       "0       year   1995.0   6193     6.03\n",
       "1              1994.0   5531     5.39\n",
       "2              1999.0   4632     4.51\n",
       "3              1996.0   4530     4.41\n",
       "4              2000.0   4335     4.22\n",
       "..       ...      ...    ...      ...\n",
       "101            1903.0      2     0.00\n",
       "102            1908.0      1     0.00\n",
       "103            1917.0      1     0.00\n",
       "104            1915.0      1     0.00\n",
       "105            1919.0      1     0.00\n",
       "\n",
       "[106 rows x 4 columns]"
      ]
     },
     "execution_count": 30,
     "metadata": {},
     "output_type": "execute_result"
    }
   ],
   "source": [
    "rp.summary_cat(final_merged['year'])"
   ]
  },
  {
   "cell_type": "code",
   "execution_count": 31,
   "metadata": {},
   "outputs": [
    {
     "name": "stdout",
     "output_type": "stream",
     "text": [
      "       userId  movieId  rating  timestamp_x  tag  timestamp_y  \\\n",
      "38849     490     7153     3.5   1328145285  NaN          NaN   \n",
      "37897     438     5952     4.0   1105650247  NaN          NaN   \n",
      "37946     601     5952     5.0   1441639519  NaN          NaN   \n",
      "38789     328     7153     4.0   1494210936  NaN          NaN   \n",
      "38810     380     7153     5.0   1493419769  NaN          NaN   \n",
      "38858     520     7153     4.0   1326609245  NaN          NaN   \n",
      "37795     106     5952     5.0   1467360288  NaN          NaN   \n",
      "37891     425     5952     4.5   1085490982  NaN          NaN   \n",
      "38733     129     7153     4.5   1167376071  NaN          NaN   \n",
      "11707       1     2116     5.0    964982876  NaN          NaN   \n",
      "\n",
      "                                                   title  \\\n",
      "38849  Lord of the Rings: The Return of the King, The...   \n",
      "37897      Lord of the Rings: The Two Towers, The (2002)   \n",
      "37946      Lord of the Rings: The Two Towers, The (2002)   \n",
      "38789  Lord of the Rings: The Return of the King, The...   \n",
      "38810  Lord of the Rings: The Return of the King, The...   \n",
      "38858  Lord of the Rings: The Return of the King, The...   \n",
      "37795      Lord of the Rings: The Two Towers, The (2002)   \n",
      "37891      Lord of the Rings: The Two Towers, The (2002)   \n",
      "38733  Lord of the Rings: The Return of the King, The...   \n",
      "11707                      Lord of the Rings, The (1978)   \n",
      "\n",
      "                                     genres    year  \n",
      "38849        Action|Adventure|Drama|Fantasy  2003.0  \n",
      "37897                     Adventure|Fantasy  2002.0  \n",
      "37946                     Adventure|Fantasy  2002.0  \n",
      "38789        Action|Adventure|Drama|Fantasy  2003.0  \n",
      "38810        Action|Adventure|Drama|Fantasy  2003.0  \n",
      "38858        Action|Adventure|Drama|Fantasy  2003.0  \n",
      "37795                     Adventure|Fantasy  2002.0  \n",
      "37891                     Adventure|Fantasy  2002.0  \n",
      "38733        Action|Adventure|Drama|Fantasy  2003.0  \n",
      "11707  Adventure|Animation|Children|Fantasy  1978.0  \n"
     ]
    }
   ],
   "source": [
    "# Filter rows where the title contains \"Lord of the Rings\"\n",
    "lotr_movies = final_merged[final_merged['title'].str.contains(\"Lord of the Rings\", case=False, na=False)]\n",
    "\n",
    "# Display the filtered DataFrame\n",
    "print(lotr_movies.sample(n=10, random_state=1))"
   ]
  },
  {
   "cell_type": "code",
   "execution_count": 32,
   "metadata": {},
   "outputs": [
    {
     "name": "stdout",
     "output_type": "stream",
     "text": [
      "       userId  movieId  rating  timestamp_x              tag   timestamp_y  \\\n",
      "18339      47   106782     3.5   1496209142              NaN           NaN   \n",
      "18366     352   106782     5.0   1493674204              NaN           NaN   \n",
      "18381     537   106782     5.0   1424142673     Stock Market  1.424143e+09   \n",
      "18386     564   106782     3.0   1478453646              NaN           NaN   \n",
      "18379     526   106782     4.0   1502132937              NaN           NaN   \n",
      "18342      68   106782     3.0   1526947699              NaN           NaN   \n",
      "18335       2   106782     5.0   1445714966  Martin Scorsese  1.445715e+09   \n",
      "18355     227   106782     5.0   1447210781              NaN           NaN   \n",
      "18356     233   106782     2.5   1529333499              NaN           NaN   \n",
      "18383     550   106782     4.0   1488629931              NaN           NaN   \n",
      "18338      21   106782     3.0   1403459964              NaN           NaN   \n",
      "18377     514   106782     4.0   1534052685              NaN           NaN   \n",
      "18375     491   106782     4.5   1526673888              NaN           NaN   \n",
      "18340      50   106782     3.0   1514238685              NaN           NaN   \n",
      "18384     551   106782     4.0   1504925198              NaN           NaN   \n",
      "18378     523   106782     5.0   1503126153              NaN           NaN   \n",
      "18349     125   106782     4.5   1474283367              NaN           NaN   \n",
      "18369     414   106782     4.0   1485656712              NaN           NaN   \n",
      "18353     184   106782     5.0   1537099242              NaN           NaN   \n",
      "18348     122   106782     5.0   1461561445              NaN           NaN   \n",
      "\n",
      "                                 title              genres    year  \n",
      "18339  Wolf of Wall Street, The (2013)  Comedy|Crime|Drama  2013.0  \n",
      "18366  Wolf of Wall Street, The (2013)  Comedy|Crime|Drama  2013.0  \n",
      "18381  Wolf of Wall Street, The (2013)  Comedy|Crime|Drama  2013.0  \n",
      "18386  Wolf of Wall Street, The (2013)  Comedy|Crime|Drama  2013.0  \n",
      "18379  Wolf of Wall Street, The (2013)  Comedy|Crime|Drama  2013.0  \n",
      "18342  Wolf of Wall Street, The (2013)  Comedy|Crime|Drama  2013.0  \n",
      "18335  Wolf of Wall Street, The (2013)  Comedy|Crime|Drama  2013.0  \n",
      "18355  Wolf of Wall Street, The (2013)  Comedy|Crime|Drama  2013.0  \n",
      "18356  Wolf of Wall Street, The (2013)  Comedy|Crime|Drama  2013.0  \n",
      "18383  Wolf of Wall Street, The (2013)  Comedy|Crime|Drama  2013.0  \n",
      "18338  Wolf of Wall Street, The (2013)  Comedy|Crime|Drama  2013.0  \n",
      "18377  Wolf of Wall Street, The (2013)  Comedy|Crime|Drama  2013.0  \n",
      "18375  Wolf of Wall Street, The (2013)  Comedy|Crime|Drama  2013.0  \n",
      "18340  Wolf of Wall Street, The (2013)  Comedy|Crime|Drama  2013.0  \n",
      "18384  Wolf of Wall Street, The (2013)  Comedy|Crime|Drama  2013.0  \n",
      "18378  Wolf of Wall Street, The (2013)  Comedy|Crime|Drama  2013.0  \n",
      "18349  Wolf of Wall Street, The (2013)  Comedy|Crime|Drama  2013.0  \n",
      "18369  Wolf of Wall Street, The (2013)  Comedy|Crime|Drama  2013.0  \n",
      "18353  Wolf of Wall Street, The (2013)  Comedy|Crime|Drama  2013.0  \n",
      "18348  Wolf of Wall Street, The (2013)  Comedy|Crime|Drama  2013.0  \n"
     ]
    }
   ],
   "source": [
    "# Filter rows where the title contains \"Wolf of Wall Street\"\n",
    "wwst_movies = final_merged[final_merged['title'].str.contains(\"Wolf of Wall Street\", case=False, na=False)]\n",
    "\n",
    "# Display the filtered DataFrame\n",
    "print(wwst_movies.sample(n=20, random_state=321))"
   ]
  },
  {
   "cell_type": "code",
   "execution_count": 33,
   "metadata": {},
   "outputs": [
    {
     "name": "stdout",
     "output_type": "stream",
     "text": [
      "   rating  count  percentage\n",
      "0     0.5   1370        1.36\n",
      "1     1.0   2811        2.79\n",
      "2     1.5   1791        1.78\n",
      "3     2.0   7551        7.49\n",
      "4     2.5   5550        5.50\n",
      "5     3.0  20047       19.88\n",
      "6     3.5  13136       13.03\n",
      "7     4.0  26818       26.60\n",
      "8     4.5   8551        8.48\n",
      "9     5.0  13211       13.10\n"
     ]
    }
   ],
   "source": [
    "# Get counts of each rating\n",
    "rating_counts = movie_ratings['rating'].value_counts().sort_index()\n",
    "\n",
    "# Convert to DataFrame\n",
    "rating_summary = rating_counts.reset_index()\n",
    "rating_summary.columns = ['rating', 'count']\n",
    "\n",
    "# Calculate total number of ratings\n",
    "total_ratings = rating_summary['count'].sum()\n",
    "\n",
    "# Add percentage column\n",
    "rating_summary['percentage'] = (rating_summary['count'] / total_ratings) * 100\n",
    "rating_summary['percentage'] = rating_summary['percentage'].round(2)\n",
    "\n",
    "# Sort by outcome (rating)\n",
    "rating_summary_sorted = rating_summary.sort_values(by='rating')\n",
    "\n",
    "# Display the sorted summary\n",
    "print(rating_summary_sorted)"
   ]
  },
  {
   "cell_type": "code",
   "execution_count": 34,
   "metadata": {},
   "outputs": [
    {
     "name": "stdout",
     "output_type": "stream",
     "text": [
      "   rating  count  percentage\n",
      "0     0.5   1373        1.34\n",
      "1     1.0   2819        2.75\n",
      "2     1.5   1801        1.75\n",
      "3     2.0   7563        7.37\n",
      "4     2.5   5568        5.42\n",
      "5     3.0  20189       19.66\n",
      "6     3.5  13424       13.07\n",
      "7     4.0  27208       26.50\n",
      "8     4.5   8811        8.58\n",
      "9     5.0  13921       13.56\n"
     ]
    }
   ],
   "source": [
    "# Get counts of each rating\n",
    "rating_counts = final_merged['rating'].value_counts().sort_index()\n",
    "\n",
    "# Convert to DataFrame\n",
    "rating_summary = rating_counts.reset_index()\n",
    "rating_summary.columns = ['rating', 'count']\n",
    "\n",
    "# Calculate total number of ratings\n",
    "total_ratings = rating_summary['count'].sum()\n",
    "\n",
    "# Add percentage column\n",
    "rating_summary['percentage'] = (rating_summary['count'] / total_ratings) * 100\n",
    "rating_summary['percentage'] = rating_summary['percentage'].round(2)\n",
    "\n",
    "# Sort by outcome (rating)\n",
    "rating_summary_sorted = rating_summary.sort_values(by='rating')\n",
    "\n",
    "# Display the sorted summary\n",
    "print(rating_summary_sorted)"
   ]
  },
  {
   "cell_type": "code",
   "execution_count": 35,
   "metadata": {},
   "outputs": [
    {
     "name": "stdout",
     "output_type": "stream",
     "text": [
      "(102677, 9)\n",
      "   userId  movieId  rating  tag             title  \\\n",
      "0       1        1     4.0  NaN  Toy Story (1995)   \n",
      "1       5        1     4.0  NaN  Toy Story (1995)   \n",
      "2       7        1     4.5  NaN  Toy Story (1995)   \n",
      "3      15        1     2.5  NaN  Toy Story (1995)   \n",
      "4      17        1     4.5  NaN  Toy Story (1995)   \n",
      "\n",
      "                                        genres    year  \n",
      "0  Adventure|Animation|Children|Comedy|Fantasy  1995.0  \n",
      "1  Adventure|Animation|Children|Comedy|Fantasy  1995.0  \n",
      "2  Adventure|Animation|Children|Comedy|Fantasy  1995.0  \n",
      "3  Adventure|Animation|Children|Comedy|Fantasy  1995.0  \n",
      "4  Adventure|Animation|Children|Comedy|Fantasy  1995.0  \n"
     ]
    },
    {
     "data": {
      "text/plain": [
       "(100836, 7)"
      ]
     },
     "execution_count": 35,
     "metadata": {},
     "output_type": "execute_result"
    }
   ],
   "source": [
    "# Drop duplicates, keeping only the last occurrence\n",
    "print(final_merged.shape)\n",
    "df_clean = final_merged.drop_duplicates(subset=['userId', 'movieId', 'rating'], keep='last')\n",
    "\n",
    "#Drop timestamp features\n",
    "timestamp_columns = [col for col in df_clean.columns if 'timestamp' in col]\n",
    "df_clean = df_clean.drop(columns=timestamp_columns)\n",
    "\n",
    "print(df_clean.head(5))\n",
    "df_clean.shape"
   ]
  },
  {
   "cell_type": "markdown",
   "metadata": {},
   "source": [
    "### APPLY FILTERS"
   ]
  },
  {
   "cell_type": "code",
   "execution_count": 36,
   "metadata": {},
   "outputs": [
    {
     "data": {
      "text/plain": [
       "(52054, 7)"
      ]
     },
     "execution_count": 36,
     "metadata": {},
     "output_type": "execute_result"
    }
   ],
   "source": [
    "### Drop rows where any of the columns 'userId', 'title', or 'rating' are NaN\n",
    "df = df_clean.dropna(subset=['userId', 'title', 'rating'])\n",
    "\n",
    "# Filter the DataFrame to keep only rows where 'rating' is 1, 2, 3, 4, or 5\n",
    "df = df[df['rating'].isin([1, 2, 3, 4, 5])]\n",
    "\n",
    "# Filter to include only rows where year >= 1990\n",
    "df = df[df['year'] >= 1990]\n",
    "\n",
    "df.shape"
   ]
  },
  {
   "cell_type": "code",
   "execution_count": 37,
   "metadata": {},
   "outputs": [
    {
     "name": "stdout",
     "output_type": "stream",
     "text": [
      "Unique Ratings: [1.0, 2.0, 3.0, 4.0, 5.0]\n",
      "Number of Unique Ratings: 5\n",
      "Number of Users: 609\n",
      "Number of Items: 5770\n",
      "Number of Ratings: 52054\n"
     ]
    }
   ],
   "source": [
    "# Count and list unique ratings\n",
    "unique_ratings = df['rating'].unique()\n",
    "unique_ratings_count = len(unique_ratings)\n",
    "\n",
    "# Print unique ratings\n",
    "print(f\"Unique Ratings: {sorted(unique_ratings)}\")\n",
    "print(f\"Number of Unique Ratings: {unique_ratings_count}\")\n",
    "\n",
    "# Existing code for number of users, items, and ratings\n",
    "num_users = df['userId'].nunique()\n",
    "num_items = df['movieId'].nunique()\n",
    "num_ratings = df.shape[0]\n",
    "\n",
    "print(f\"Number of Users: {num_users}\")\n",
    "print(f\"Number of Items: {num_items}\")\n",
    "print(f\"Number of Ratings: {num_ratings}\")\n"
   ]
  },
  {
   "cell_type": "code",
   "execution_count": 38,
   "metadata": {},
   "outputs": [
    {
     "name": "stdout",
     "output_type": "stream",
     "text": [
      "   rating  count  percentage\n",
      "0     1.0   2240        4.30\n",
      "1     2.0   5901       11.34\n",
      "2     3.0  15425       29.63\n",
      "3     4.0  19566       37.59\n",
      "4     5.0   8922       17.14\n"
     ]
    }
   ],
   "source": [
    "# Get counts of each rating\n",
    "rating_counts = df['rating'].value_counts().sort_index()\n",
    "\n",
    "# Convert to DataFrame\n",
    "rating_summary = rating_counts.reset_index()\n",
    "rating_summary.columns = ['rating', 'count']\n",
    "\n",
    "# Calculate total number of ratings\n",
    "total_ratings = rating_summary['count'].sum()\n",
    "\n",
    "# Add percentage column\n",
    "rating_summary['percentage'] = (rating_summary['count'] / total_ratings) * 100\n",
    "rating_summary['percentage'] = rating_summary['percentage'].round(2)\n",
    "\n",
    "# Sort by outcome (rating)\n",
    "rating_summary_sorted = rating_summary.sort_values(by='rating')\n",
    "\n",
    "# Display the sorted summary\n",
    "print(rating_summary_sorted)"
   ]
  },
  {
   "cell_type": "code",
   "execution_count": null,
   "metadata": {},
   "outputs": [],
   "source": []
  },
  {
   "cell_type": "code",
   "execution_count": 39,
   "metadata": {},
   "outputs": [
    {
     "name": "stdout",
     "output_type": "stream",
     "text": [
      "Evaluating KNNBasic...\n",
      "Computing the msd similarity matrix...\n",
      "Done computing similarity matrix.\n",
      "Computing the msd similarity matrix...\n",
      "Done computing similarity matrix.\n",
      "Computing the msd similarity matrix...\n",
      "Done computing similarity matrix.\n",
      "Computing the msd similarity matrix...\n",
      "Done computing similarity matrix.\n",
      "Computing the msd similarity matrix...\n",
      "Done computing similarity matrix.\n",
      "Evaluating RMSE of algorithm KNNBasic on 5 split(s).\n",
      "\n",
      "                  Fold 1  Fold 2  Fold 3  Fold 4  Fold 5  Mean    Std     \n",
      "RMSE (testset)    0.9494  0.9498  0.9653  0.9651  0.9563  0.9572  0.0070  \n",
      "Fit time          0.02    0.04    0.03    0.03    0.03    0.03    0.00    \n",
      "Test time         0.21    0.24    0.22    0.28    0.25    0.24    0.03    \n",
      "Evaluating SVD...\n",
      "Evaluating RMSE of algorithm SVD on 5 split(s).\n",
      "\n",
      "                  Fold 1  Fold 2  Fold 3  Fold 4  Fold 5  Mean    Std     \n",
      "RMSE (testset)    0.8693  0.8816  0.8825  0.8698  0.8684  0.8743  0.0063  \n",
      "Fit time          0.24    0.27    0.23    0.23    0.24    0.24    0.01    \n",
      "Test time         0.03    0.03    0.02    0.08    0.03    0.04    0.02    \n",
      "Evaluating NMF...\n",
      "Evaluating RMSE of algorithm NMF on 5 split(s).\n",
      "\n",
      "                  Fold 1  Fold 2  Fold 3  Fold 4  Fold 5  Mean    Std     \n",
      "RMSE (testset)    0.9376  0.9289  0.9457  0.9398  0.9262  0.9356  0.0072  \n",
      "Fit time          0.55    0.48    0.52    0.52    0.47    0.51    0.03    \n",
      "Test time         0.02    0.02    0.02    0.02    0.02    0.02    0.00    \n",
      "Evaluating SlopeOne...\n",
      "Evaluating RMSE of algorithm SlopeOne on 5 split(s).\n",
      "\n",
      "                  Fold 1  Fold 2  Fold 3  Fold 4  Fold 5  Mean    Std     \n",
      "RMSE (testset)    0.9027  0.8979  0.9025  0.9157  0.9013  0.9040  0.0061  \n",
      "Fit time          0.37    0.35    0.32    0.35    0.34    0.35    0.01    \n",
      "Test time         0.55    0.57    0.46    0.52    0.48    0.52    0.04    \n",
      "Evaluating CoClustering...\n",
      "Evaluating RMSE of algorithm CoClustering on 5 split(s).\n",
      "\n",
      "                  Fold 1  Fold 2  Fold 3  Fold 4  Fold 5  Mean    Std     \n",
      "RMSE (testset)    0.9134  0.9191  0.9261  0.9462  0.9240  0.9258  0.0111  \n",
      "Fit time          0.49    0.49    0.49    0.51    0.47    0.49    0.01    \n",
      "Test time         0.02    0.02    0.03    0.02    0.02    0.02    0.00    \n",
      "              mean_rmse  std_rmse\n",
      "KNNBasic       0.957158  0.006997\n",
      "SVD            0.874325  0.006330\n",
      "NMF            0.935633  0.007169\n",
      "SlopeOne       0.904001  0.006117\n",
      "CoClustering   0.925756  0.011093\n"
     ]
    }
   ],
   "source": [
    "# Define the Reader object\n",
    "reader = Reader(rating_scale=(1.0, 5.0))\n",
    "\n",
    "# Load the data into Surprise format\n",
    "data = Dataset.load_from_df(df[['userId', 'title', 'rating']], reader)\n",
    "\n",
    "# Define algorithms to evaluate\n",
    "algorithms = {\n",
    "    'KNNBasic': KNNBasic(),\n",
    "    'SVD': SVD(),\n",
    "    'NMF': NMF(),\n",
    "    'SlopeOne': SlopeOne(),\n",
    "    'CoClustering': CoClustering()\n",
    "}\n",
    "\n",
    "# Initialize a dictionary to store the results\n",
    "results = {}\n",
    "\n",
    "for name, algorithm in algorithms.items():\n",
    "    print(f\"Evaluating {name}...\")\n",
    "    # Perform cross-validation\n",
    "    cv_results = cross_validate(algorithm, data, measures=['RMSE'], cv=5, verbose=True)\n",
    "    # Store the results\n",
    "    results[name] = {\n",
    "        'mean_rmse': np.mean(cv_results['test_rmse']),\n",
    "        'std_rmse': np.std(cv_results['test_rmse'])\n",
    "    }\n",
    "\n",
    "# Display the results\n",
    "results_df = pd.DataFrame(results).T\n",
    "print(results_df)\n",
    "\n",
    "\n"
   ]
  },
  {
   "cell_type": "code",
   "execution_count": null,
   "metadata": {},
   "outputs": [],
   "source": []
  },
  {
   "cell_type": "code",
   "execution_count": 40,
   "metadata": {},
   "outputs": [
    {
     "name": "stdout",
     "output_type": "stream",
     "text": [
      "Evaluating SVD with n_factors=2...\n",
      "Evaluating SVD with n_factors=3...\n",
      "Evaluating SVD with n_factors=5...\n",
      "Evaluating SVD with n_factors=10...\n",
      "Evaluating SVD with n_factors=20...\n",
      "Evaluating SVD with n_factors=30...\n",
      "Evaluating SVD with n_factors=40...\n",
      "Evaluating SVD with n_factors=50...\n"
     ]
    },
    {
     "data": {
      "image/png": "[encoded data removed]",
      "text/plain": [
       "<Figure size 1000x600 with 1 Axes>"
      ]
     },
     "metadata": {},
     "output_type": "display_data"
    },
    {
     "name": "stdout",
     "output_type": "stream",
     "text": [
      "Best Parameter:\n",
      "Number of Factors: 2.0\n",
      "Mean RMSE: 0.8670\n",
      "Standard Deviation of RMSE: 0.0045\n"
     ]
    }
   ],
   "source": [
    "# Hyperparameter tuning for different values of n_factors in the SVD algorithm\n",
    "\n",
    "# Define the range of n_factors to test\n",
    "n_factors_list = [2, 3, 5, 10, 20, 30, 40, 50]\n",
    "\n",
    "# Define the Reader object\n",
    "reader = Reader(rating_scale=(0.5, 5.0))\n",
    "\n",
    "# Load the data into Surprise format\n",
    "data = Dataset.load_from_df(df[['userId', 'title', 'rating']], reader)\n",
    "\n",
    "# Initialize a dictionary to store the results\n",
    "results = {}\n",
    "\n",
    "# Evaluate SVD with different n_factors\n",
    "for n_factors in n_factors_list:\n",
    "    print(f\"Evaluating SVD with n_factors={n_factors}...\")\n",
    "    \n",
    "    # Initialize the SVD model with the current n_factors\n",
    "    model = SVD(n_factors=n_factors)\n",
    "    \n",
    "    # Perform cross-validation\n",
    "    cv_results = cross_validate(model, data, measures=['RMSE'], cv=5, verbose=False)\n",
    "    \n",
    "    # Store the results\n",
    "    results[n_factors] = {\n",
    "        'mean_rmse': np.mean(cv_results['test_rmse']),\n",
    "        'std_rmse': np.std(cv_results['test_rmse'])\n",
    "    }\n",
    "\n",
    "# Convert results to DataFrame for plotting\n",
    "results_df = pd.DataFrame(results).T\n",
    "results_df.index.name = 'n_factors'\n",
    "results_df.reset_index(inplace=True)\n",
    "\n",
    "# Plot n_factors vs RMSE\n",
    "plt.figure(figsize=(10, 6))\n",
    "plt.errorbar(results_df['n_factors'], results_df['mean_rmse'], yerr=results_df['std_rmse'], fmt='-o')\n",
    "plt.xlabel('Number of Factors (n_factors)')\n",
    "plt.ylabel('Mean RMSE')\n",
    "plt.title('SVD: Number of Factors vs RMSE')\n",
    "plt.grid(True)\n",
    "plt.xticks(results_df['n_factors'])\n",
    "plt.show()\n",
    "\n",
    "\n",
    "\n",
    "# Find the best parameter\n",
    "best_n_factors = results_df.loc[results_df['mean_rmse'].idxmin()]\n",
    "\n",
    "# Display the best parameter\n",
    "print(\"Best Parameter:\")\n",
    "print(f\"Number of Factors: {best_n_factors['n_factors']}\")\n",
    "print(f\"Mean RMSE: {best_n_factors['mean_rmse']:.4f}\")\n",
    "print(f\"Standard Deviation of RMSE: {best_n_factors['std_rmse']:.4f}\")"
   ]
  },
  {
   "cell_type": "code",
   "execution_count": 41,
   "metadata": {},
   "outputs": [
    {
     "name": "stdout",
     "output_type": "stream",
     "text": [
      "\n",
      "Fitting SVD model on the entire dataset...\n",
      "Evaluating RMSE of algorithm SVD on 5 split(s).\n",
      "\n",
      "                  Fold 1  Fold 2  Fold 3  Fold 4  Fold 5  Mean    Std     \n",
      "RMSE (testset)    0.8771  0.8711  0.8611  0.8660  0.8624  0.8675  0.0059  \n",
      "Fit time          0.07    0.07    0.07    0.07    0.07    0.07    0.00    \n",
      "Test time         0.03    0.02    0.02    0.02    0.02    0.02    0.00    \n",
      "\n",
      "SVD Cross-validation Results:\n",
      "{'test_rmse': array([0.87709319, 0.87113359, 0.86105576, 0.86596794, 0.8624414 ]), 'fit_time': (0.07270669937133789, 0.06877017021179199, 0.07076334953308105, 0.07183957099914551, 0.06982278823852539), 'test_time': (0.028901338577270508, 0.024037837982177734, 0.023973941802978516, 0.022976398468017578, 0.023864269256591797)}\n"
     ]
    }
   ],
   "source": [
    "# Example of fitting a specific algorithm (SVD in this case) on the entire dataset\n",
    "print(\"\\nFitting SVD model on the entire dataset...\")\n",
    "# Build the full training set\n",
    "trainset = data.build_full_trainset()\n",
    "\n",
    "# Initialize and fit the model\n",
    "model = SVD(n_factors=2)\n",
    "model.fit(trainset)\n",
    "\n",
    "# Perform cross-validation again if needed\n",
    "cross_val_results = cross_validate(model, data, measures=['RMSE'], cv=5, verbose=True)\n",
    "print(\"\\nSVD Cross-validation Results:\")\n",
    "print(cross_val_results)"
   ]
  },
  {
   "cell_type": "code",
   "execution_count": 42,
   "metadata": {},
   "outputs": [
    {
     "name": "stdout",
     "output_type": "stream",
     "text": [
      " userId                                  movie_Title  true_rating  predicted_rating                   details\n",
      "    177                          Spider-Man 3 (2007)          1.0             2.804 {'was_impossible': False}\n",
      "    394                  Addams Family Values (1993)          2.0             2.561 {'was_impossible': False}\n",
      "     89                           Tuxedo, The (2002)          5.0             3.282 {'was_impossible': False}\n",
      "    603                  The Devil's Advocate (1997)          3.0             3.163 {'was_impossible': False}\n",
      "    105                        Ocean's Eleven (2001)          4.0             4.289 {'was_impossible': False}\n",
      "    103                    Gulliver's Travels (2010)          3.0             3.501 {'was_impossible': False}\n",
      "    610                              Big Fish (2003)          4.0             4.016 {'was_impossible': False}\n",
      "    387                           Three Kings (1999)          3.0             3.204 {'was_impossible': False}\n",
      "    380 Hitchhiker's Guide to the Galaxy, The (2005)          4.0             3.579 {'was_impossible': False}\n",
      "     42                        Sweet November (2001)          3.0             3.398 {'was_impossible': False}\n",
      "    276                    That Thing You Do! (1996)          5.0             4.147 {'was_impossible': False}\n",
      "    104                            Nancy Drew (2007)          3.0             3.431 {'was_impossible': False}\n",
      "    279                      World's End, The (2013)          2.0             3.141 {'was_impossible': False}\n",
      "    239                      X2: X-Men United (2003)          4.0             4.324 {'was_impossible': False}\n",
      "    387                          House of Wax (2005)          2.0             2.864 {'was_impossible': False}\n",
      "    534                         Hangover, The (2009)          4.0             3.847 {'was_impossible': False}\n",
      "    603                             Afterglow (1997)          4.0             3.592 {'was_impossible': False}\n",
      "    385                           Shadow, The (1994)          3.0             2.891 {'was_impossible': False}\n",
      "    317                   Lucky Number Slevin (2006)          2.0             3.689 {'was_impossible': False}\n",
      "    304                              Hercules (1997)          3.0             3.756 {'was_impossible': False}\n"
     ]
    }
   ],
   "source": [
    "# Get predictions for the testset\n",
    "testset = trainset.build_testset()\n",
    "predictions_list = model.test(testset)\n",
    "\n",
    "# Convert predictions to DataFrame\n",
    "predictions_df = pd.DataFrame([{\n",
    "    'userId': pred.uid,\n",
    "    'movie_Title': pred.iid,\n",
    "    'true_rating': pred.r_ui,\n",
    "    'predicted_rating': round(pred.est, 3),\n",
    "    'details': pred.details\n",
    "} for pred in predictions_list])\n",
    "\n",
    "# Display a random sample of 20 predictions\n",
    "print(predictions_df.sample(n=20, random_state=1).to_string(index=False))"
   ]
  },
  {
   "cell_type": "code",
   "execution_count": 43,
   "metadata": {},
   "outputs": [
    {
     "name": "stdout",
     "output_type": "stream",
     "text": [
      "T-statistic: -1.1464\n",
      "P-value: 0.2516\n",
      "There is no significant difference between true ratings and predicted ratings.\n"
     ]
    }
   ],
   "source": [
    "# Perform paired t-test\n",
    "t_stat, p_value = stats.ttest_rel(predictions_df['true_rating'], predictions_df['predicted_rating'])\n",
    "\n",
    "# Print results\n",
    "print(f\"T-statistic: {t_stat:.4f}\")\n",
    "print(f\"P-value: {p_value:.4f}\")\n",
    "\n",
    "# Interpretation\n",
    "alpha = 0.05\n",
    "if p_value < alpha:\n",
    "    print(\"There is a significant difference between true ratings and predicted ratings.\")\n",
    "else:\n",
    "    print(\"There is no significant difference between true ratings and predicted ratings.\")"
   ]
  },
  {
   "cell_type": "code",
   "execution_count": 44,
   "metadata": {},
   "outputs": [
    {
     "name": "stdout",
     "output_type": "stream",
     "text": [
      "   userId                  movie_Title  predicted_rating  average_rating\n",
      "0     239          Spider-Man 3 (2007)             3.335        2.722222\n",
      "1     105         Hangover, The (2009)             4.041        3.687500\n",
      "2     279  The Devil's Advocate (1997)             3.129        3.378378\n",
      "3     106      X2: X-Men United (2003)             4.760        3.937500\n",
      "4      89   Lucky Number Slevin (2006)             4.041        3.809524\n",
      "5     603        Ocean's Eleven (2001)             3.547        3.875000\n",
      "6     317      World's End, The (2013)             3.216        3.363636\n",
      "7     105              Hercules (1997)             4.013        3.571429\n"
     ]
    }
   ],
   "source": [
    "# Prediction for new data, and adding an average rating from the existing dataset\n",
    "\n",
    "from surprise import Dataset, Reader, SVD\n",
    "import pandas as pd\n",
    "\n",
    "# Define the user-movie pairs for which we want predictions\n",
    "prediction_data = pd.DataFrame({\n",
    "    'userId': [239, 105, 279, 106, 89, 603, 317, 105],\n",
    "    'title': ['Spider-Man 3 (2007)', 'Hangover, The (2009)', \"The Devil's Advocate (1997)\",\n",
    "              'X2: X-Men United (2003)', 'Lucky Number Slevin (2006)', \"Ocean's Eleven (2001)\",\n",
    "              \"World's End, The (2013)\", 'Hercules (1997)']\n",
    "})\n",
    "\n",
    "# Calculate average and median ratings for each movie title\n",
    "average_ratings = df.groupby('title')['rating'].mean().reset_index()\n",
    "average_ratings.rename(columns={'rating': 'average_rating'}, inplace=True)\n",
    "\n",
    "# Prepare the testset from the prediction_data\n",
    "testset = [(row['userId'], row['title'], 0) for index, row in prediction_data.iterrows()]\n",
    "\n",
    "# Initialize and fit the model\n",
    "reader = Reader(rating_scale=(1.0, 5.0))\n",
    "data = Dataset.load_from_df(df[['userId', 'title', 'rating']], reader)\n",
    "trainset = data.build_full_trainset()\n",
    "model = SVD()  \n",
    "model.fit(trainset)\n",
    "\n",
    "# Get predictions\n",
    "predictions = model.test(testset)\n",
    "\n",
    "# Convert predictions to DataFrame\n",
    "predictions_df = pd.DataFrame([{\n",
    "    'userId': pred.uid,\n",
    "    'movie_Title': pred.iid,\n",
    "    'predicted_rating': round(pred.est, 3)\n",
    "} for pred in predictions])\n",
    "\n",
    "# Merge with average ratings\n",
    "predictions_df = predictions_df.merge(average_ratings, left_on='movie_Title', right_on='title', how='left')\n",
    "predictions_df.drop(columns=['title'], inplace=True)\n",
    "\n",
    "# Display the predictions with average ratings\n",
    "print(predictions_df)\n"
   ]
  },
  {
   "cell_type": "code",
   "execution_count": 45,
   "metadata": {},
   "outputs": [
    {
     "name": "stdout",
     "output_type": "stream",
     "text": [
      "   userId                  movie_Title  predicted_rating  average_rating\n",
      "0     239          Spider-Man 3 (2007)             3.375        2.722222\n",
      "1     105         Hangover, The (2009)             4.125        3.687500\n",
      "2     279  The Devil's Advocate (1997)             3.158        3.378378\n",
      "3     106      X2: X-Men United (2003)             4.742        3.937500\n",
      "4      89   Lucky Number Slevin (2006)             4.066        3.809524\n",
      "5     603        Ocean's Eleven (2001)             4.076        3.875000\n",
      "6     317      World's End, The (2013)             3.317        3.363636\n",
      "7     105              Hercules (1997)             4.047        3.571429\n"
     ]
    }
   ],
   "source": [
    "# Prediction for new data, and adding an average rating from the existing dataset\n",
    "\n",
    "from surprise import Dataset, Reader, SVD\n",
    "import pandas as pd\n",
    "\n",
    "# Define the user-movie pairs for which we want predictions\n",
    "prediction_data = pd.DataFrame({\n",
    "    'userId': [239, 105, 279, 106, 89, 603, 317, 105],\n",
    "    'title': ['Spider-Man 3 (2007)', 'Hangover, The (2009)', \"The Devil's Advocate (1997)\",\n",
    "              'X2: X-Men United (2003)', 'Lucky Number Slevin (2006)', \"Ocean's Eleven (2001)\",\n",
    "              \"World's End, The (2013)\", 'Hercules (1997)']\n",
    "})\n",
    "\n",
    "# Calculate average and median ratings for each movie title\n",
    "average_ratings = df.groupby('title')['rating'].mean().reset_index()\n",
    "average_ratings.rename(columns={'rating': 'average_rating'}, inplace=True)\n",
    "\n",
    "# Prepare the testset from the prediction_data\n",
    "testset = [(row['userId'], row['title'], 0) for index, row in prediction_data.iterrows()]\n",
    "\n",
    "# Initialize and fit the model\n",
    "reader = Reader(rating_scale=(1.0, 5.0))\n",
    "data = Dataset.load_from_df(df[['userId', 'title', 'rating']], reader)\n",
    "trainset = data.build_full_trainset()\n",
    "model = SVD() \n",
    "model.fit(trainset)\n",
    "\n",
    "# Get predictions\n",
    "predictions = model.test(testset)\n",
    "\n",
    "# Convert predictions to DataFrame\n",
    "predictions_df = pd.DataFrame([{\n",
    "    'userId': pred.uid,\n",
    "    'movie_Title': pred.iid,\n",
    "    'predicted_rating': round(pred.est, 3)\n",
    "} for pred in predictions])\n",
    "\n",
    "# Merge with average ratings\n",
    "predictions_df = predictions_df.merge(average_ratings, left_on='movie_Title', right_on='title', how='left')\n",
    "predictions_df.drop(columns=['title'], inplace=True)\n",
    "\n",
    "# Display the predictions with average ratings\n",
    "print(predictions_df)\n"
   ]
  },
  {
   "cell_type": "code",
   "execution_count": null,
   "metadata": {},
   "outputs": [],
   "source": []
  },
  {
   "cell_type": "markdown",
   "metadata": {},
   "source": [
    "### PREDICTIONS FOR NEW DATA\n",
    "userId\t&nbsp;&nbsp;&nbsp;&nbsp;movie_Title  &nbsp;&nbsp;&nbsp;&nbsp;&nbsp;&nbsp;&nbsp;&nbsp;predicted_rating <br>\n",
    "239\t  &nbsp;&nbsp;&nbsp;&nbsp;  Spider-Man 3 (2007) <br>\n",
    "105\t  &nbsp;&nbsp;&nbsp;&nbsp;  Hangover, The (2009) <br>\n",
    "279\t  &nbsp;&nbsp;&nbsp;&nbsp;  The Devil's Advocate (1997) <br>\n",
    "106\t  &nbsp;&nbsp;&nbsp;&nbsp;  X2: X-Men United (2003) <br>\n",
    "89\t  &nbsp;&nbsp;&nbsp;&nbsp;   Lucky Number Slevin (2006) <br>\n",
    "603   &nbsp;&nbsp;&nbsp;&nbsp;  Ocean's Eleven (2001) <br>\n",
    "317\t  &nbsp;&nbsp;&nbsp;&nbsp;  World's End, The (2013) <br>\n",
    "105   &nbsp;&nbsp;&nbsp;&nbsp;\tHercules (1997) <br>\n"
   ]
  },
  {
   "cell_type": "code",
   "execution_count": 46,
   "metadata": {},
   "outputs": [
    {
     "name": "stdout",
     "output_type": "stream",
     "text": [
      " userId                 movie_Title  predicted_rating  average_rating  median_rating\n",
      "    239         Spider-Man 3 (2007)              3.54            2.72            3.0\n",
      "    105        Hangover, The (2009)              3.99            3.69            4.0\n",
      "    279 The Devil's Advocate (1997)              3.19            3.38            3.0\n",
      "    106     X2: X-Men United (2003)              4.56            3.94            4.0\n",
      "     89  Lucky Number Slevin (2006)              4.17            3.81            4.0\n",
      "    603       Ocean's Eleven (2001)              3.97            3.88            4.0\n",
      "    317     World's End, The (2013)              3.10            3.36            4.0\n",
      "    105             Hercules (1997)              4.24            3.57            4.0\n"
     ]
    }
   ],
   "source": [
    "\n",
    "# Define the user-movie pairs for which we want predictions\n",
    "prediction_data = pd.DataFrame({\n",
    "    'userId': [239, 105, 279, 106, 89, 603, 317, 105],\n",
    "    'title': ['Spider-Man 3 (2007)', 'Hangover, The (2009)', \"The Devil's Advocate (1997)\",\n",
    "              'X2: X-Men United (2003)', 'Lucky Number Slevin (2006)', \"Ocean's Eleven (2001)\",\n",
    "              \"World's End, The (2013)\", 'Hercules (1997)']\n",
    "})\n",
    "\n",
    "# Calculate average and median ratings for each movie title\n",
    "average_ratings = df.groupby('title')['rating'].mean().reset_index()\n",
    "average_ratings.rename(columns={'rating': 'average_rating'}, inplace=True)\n",
    "\n",
    "median_ratings = df.groupby('title')['rating'].median().reset_index()\n",
    "median_ratings.rename(columns={'rating': 'median_rating'}, inplace=True)\n",
    "\n",
    "# Prepare the testset from the prediction_data\n",
    "testset = [(row['userId'], row['title'], 0) for index, row in prediction_data.iterrows()]\n",
    "\n",
    "# Initialize and fit the model\n",
    "reader = Reader(rating_scale=(1.0, 5.0))\n",
    "data = Dataset.load_from_df(df[['userId', 'title', 'rating']], reader)\n",
    "trainset = data.build_full_trainset()\n",
    "model = SVD()  \n",
    "model.fit(trainset)\n",
    "\n",
    "# Get predictions\n",
    "predictions = model.test(testset)\n",
    "\n",
    "# Convert predictions to DataFrame\n",
    "predictions_df = pd.DataFrame([{\n",
    "    'userId': pred.uid,\n",
    "    'movie_Title': pred.iid,\n",
    "    'predicted_rating': round(pred.est, 2)\n",
    "} for pred in predictions])\n",
    "\n",
    "# Merge with average and median ratings\n",
    "predictions_df = predictions_df.merge(average_ratings, left_on='movie_Title', right_on='title', how='left')\n",
    "predictions_df = predictions_df.merge(median_ratings, left_on='movie_Title', right_on='title', how='left')\n",
    "\n",
    "# Drop the unnecessary columns\n",
    "predictions_df.drop(columns=['title_x', 'title_y'], inplace=True)\n",
    "\n",
    "# Round average and median ratings to 1 decimal place\n",
    "predictions_df['average_rating'] = predictions_df['average_rating'].round(2)\n",
    "predictions_df['median_rating'] = predictions_df['median_rating'].round(2)\n",
    "\n",
    "# Display the predictions with average and median ratings\n",
    "print(predictions_df.to_string(index=False))\n"
   ]
  },
  {
   "cell_type": "code",
   "execution_count": 47,
   "metadata": {},
   "outputs": [
    {
     "name": "stdout",
     "output_type": "stream",
     "text": [
      "<class 'pandas.core.frame.DataFrame'>\n",
      "Index: 52054 entries, 0 to 102674\n",
      "Data columns (total 7 columns):\n",
      " #   Column   Non-Null Count  Dtype  \n",
      "---  ------   --------------  -----  \n",
      " 0   userId   52054 non-null  int64  \n",
      " 1   movieId  52054 non-null  int64  \n",
      " 2   rating   52054 non-null  float64\n",
      " 3   tag      638 non-null    object \n",
      " 4   title    52054 non-null  object \n",
      " 5   genres   52054 non-null  object \n",
      " 6   year     52054 non-null  float64\n",
      "dtypes: float64(2), int64(2), object(3)\n",
      "memory usage: 3.2+ MB\n"
     ]
    }
   ],
   "source": [
    "df.info()"
   ]
  },
  {
   "cell_type": "code",
   "execution_count": 48,
   "metadata": {},
   "outputs": [
    {
     "data": {
      "text/plain": [
       "Index(['userId', 'movieId', 'rating', 'tag', 'title', 'genres', 'year'], dtype='object')"
      ]
     },
     "execution_count": 48,
     "metadata": {},
     "output_type": "execute_result"
    }
   ],
   "source": [
    "df.columns"
   ]
  },
  {
   "cell_type": "code",
   "execution_count": null,
   "metadata": {},
   "outputs": [],
   "source": []
  }
 ],
 "metadata": {
  "kernelspec": {
   "display_name": "Python 3 (ipykernel)",
   "language": "python",
   "name": "python3"
  },
  "language_info": {
   "codemirror_mode": {
    "name": "ipython",
    "version": 3
   },
   "file_extension": ".py",
   "mimetype": "text/x-python",
   "name": "python",
   "nbconvert_exporter": "python",
   "pygments_lexer": "ipython3",
   "version": "3.11.7"
  }
 },
 "nbformat": 4,
 "nbformat_minor": 4
}
